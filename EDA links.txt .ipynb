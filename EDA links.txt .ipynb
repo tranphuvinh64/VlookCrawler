{
 "cells": [
  {
   "cell_type": "code",
   "execution_count": 1,
   "metadata": {},
   "outputs": [],
   "source": [
    "import pandas as pd"
   ]
  },
  {
   "cell_type": "code",
   "execution_count": 2,
   "metadata": {},
   "outputs": [],
   "source": [
    "df = pd.read_csv(\"links.txt\",sep='|', header=None)"
   ]
  },
  {
   "cell_type": "code",
   "execution_count": 3,
   "metadata": {},
   "outputs": [
    {
     "data": {
      "text/html": [
       "<div>\n",
       "<style scoped>\n",
       "    .dataframe tbody tr th:only-of-type {\n",
       "        vertical-align: middle;\n",
       "    }\n",
       "\n",
       "    .dataframe tbody tr th {\n",
       "        vertical-align: top;\n",
       "    }\n",
       "\n",
       "    .dataframe thead th {\n",
       "        text-align: right;\n",
       "    }\n",
       "</style>\n",
       "<table border=\"1\" class=\"dataframe\">\n",
       "  <thead>\n",
       "    <tr style=\"text-align: right;\">\n",
       "      <th></th>\n",
       "      <th>0</th>\n",
       "      <th>1</th>\n",
       "    </tr>\n",
       "  </thead>\n",
       "  <tbody>\n",
       "    <tr>\n",
       "      <th>0</th>\n",
       "      <td>https://vlook.vn/van-phong-cho-thue-hcm/</td>\n",
       "      <td>https://vlook.vn/van-phong-cho-thue/10ab-build...</td>\n",
       "    </tr>\n",
       "    <tr>\n",
       "      <th>1</th>\n",
       "      <td>https://vlook.vn/van-phong-cho-thue-hcm/</td>\n",
       "      <td>https://vlook.vn/van-phong-cho-thue/12-dao-duy...</td>\n",
       "    </tr>\n",
       "    <tr>\n",
       "      <th>2</th>\n",
       "      <td>https://vlook.vn/van-phong-cho-thue-hcm/</td>\n",
       "      <td>https://vlook.vn/van-phong-cho-thue/12-nguyen-...</td>\n",
       "    </tr>\n",
       "    <tr>\n",
       "      <th>3</th>\n",
       "      <td>https://vlook.vn/van-phong-cho-thue-hcm/</td>\n",
       "      <td>https://vlook.vn/van-phong-cho-thue/130-nct-of...</td>\n",
       "    </tr>\n",
       "    <tr>\n",
       "      <th>4</th>\n",
       "      <td>https://vlook.vn/van-phong-cho-thue-hcm/</td>\n",
       "      <td>https://vlook.vn/van-phong-cho-thue/144-cong-h...</td>\n",
       "    </tr>\n",
       "  </tbody>\n",
       "</table>\n",
       "</div>"
      ],
      "text/plain": [
       "                                          0  \\\n",
       "0  https://vlook.vn/van-phong-cho-thue-hcm/   \n",
       "1  https://vlook.vn/van-phong-cho-thue-hcm/   \n",
       "2  https://vlook.vn/van-phong-cho-thue-hcm/   \n",
       "3  https://vlook.vn/van-phong-cho-thue-hcm/   \n",
       "4  https://vlook.vn/van-phong-cho-thue-hcm/   \n",
       "\n",
       "                                                   1  \n",
       "0  https://vlook.vn/van-phong-cho-thue/10ab-build...  \n",
       "1  https://vlook.vn/van-phong-cho-thue/12-dao-duy...  \n",
       "2  https://vlook.vn/van-phong-cho-thue/12-nguyen-...  \n",
       "3  https://vlook.vn/van-phong-cho-thue/130-nct-of...  \n",
       "4  https://vlook.vn/van-phong-cho-thue/144-cong-h...  "
      ]
     },
     "execution_count": 3,
     "metadata": {},
     "output_type": "execute_result"
    }
   ],
   "source": [
    "df.head()"
   ]
  },
  {
   "cell_type": "code",
   "execution_count": 5,
   "metadata": {},
   "outputs": [],
   "source": [
    "df['short'] = df[0].apply(lambda x : str(x).replace(\"https://vlook.vn/van-phong-cho-thue-hcm\",\"\"))"
   ]
  },
  {
   "cell_type": "code",
   "execution_count": 7,
   "metadata": {},
   "outputs": [
    {
     "data": {
      "text/plain": [
       "/page/80/     15\n",
       "/page/29/     15\n",
       "/page/17/     15\n",
       "/page/110/    15\n",
       "/page/63/     15\n",
       "              ..\n",
       "/page/84/     15\n",
       "/page/64/     14\n",
       "/page/119/    14\n",
       "/page/94/     14\n",
       "/page/130/     6\n",
       "Name: short, Length: 130, dtype: int64"
      ]
     },
     "execution_count": 7,
     "metadata": {},
     "output_type": "execute_result"
    }
   ],
   "source": [
    "df['short'].value_counts()"
   ]
  },
  {
   "cell_type": "code",
   "execution_count": null,
   "metadata": {},
   "outputs": [],
   "source": []
  }
 ],
 "metadata": {
  "kernelspec": {
   "display_name": "Python 3",
   "language": "python",
   "name": "python3"
  },
  "language_info": {
   "codemirror_mode": {
    "name": "ipython",
    "version": 3
   },
   "file_extension": ".py",
   "mimetype": "text/x-python",
   "name": "python",
   "nbconvert_exporter": "python",
   "pygments_lexer": "ipython3",
   "version": "3.8.5"
  }
 },
 "nbformat": 4,
 "nbformat_minor": 4
}
