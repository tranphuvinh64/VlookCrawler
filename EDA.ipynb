{
 "cells": [
  {
   "cell_type": "code",
   "execution_count": 20,
   "metadata": {},
   "outputs": [],
   "source": [
    "import pandas as pd"
   ]
  },
  {
   "cell_type": "code",
   "execution_count": 21,
   "metadata": {},
   "outputs": [],
   "source": [
    "names = [\"Link\",\"DonGia\",\"Cập nhật ngày\",\"Tên tòa nhà\",\"Địa chỉ\", \"Số tầng\", \n",
    "         \"Diện tích cho thuê\", \"Giá thuê\", \"Phí quản lý\", \"Phí gửi xe máy\", \"Phí gửi ô tô\", \"Tiền điện\",\n",
    "        \"Phí ngoài giờ\", \"Thời gian thiết kế văn phòng\", \"Thời gian thuê\", \"Đặt cọc\", \"Thanh toán\"]\n",
    "usecols = [\"Link\",\"Cập nhật ngày\",\"Tên tòa nhà\",\"Địa chỉ\", \"Số tầng\", \n",
    "         \"Diện tích cho thuê\", \"Giá thuê\", \"Phí quản lý\", \"Phí gửi xe máy\", \"Phí gửi ô tô\", \"Tiền điện\",\n",
    "        \"Phí ngoài giờ\", \"Thời gian thiết kế văn phòng\", \"Thời gian thuê\", \"Đặt cọc\", \"Thanh toán\"]\n",
    "df = pd.read_csv(\"data.txt\",sep=\"|\",header=None, names=names, usecols=usecols)"
   ]
  },
  {
   "cell_type": "code",
   "execution_count": 22,
   "metadata": {},
   "outputs": [],
   "source": [
    "def get_Duong_Phuong_Quan(diachi):\n",
    "    lst = diachi.split(\",\")\n",
    "    if len(lst) == 3:\n",
    "        return lst[0].title().strip(),lst[1].title().strip(),lst[2].title().strip()\n",
    "    duong = \"None\"\n",
    "    phuong = \"None\"\n",
    "    quan = \"None\"\n",
    "    for el in lst:\n",
    "        if el.lower().find(\"phường\") != -1 or el.lower().find(\"xã\") != -1:\n",
    "            phuong = el.title().strip()\n",
    "        if el.lower().find(\"quận\") != -1 or el.lower().find(\"huyện\") != -1:\n",
    "            quan = el.title().strip()\n",
    "    duong = lst[0].title().strip()\n",
    "    return duong,phuong,quan"
   ]
  },
  {
   "cell_type": "code",
   "execution_count": 23,
   "metadata": {},
   "outputs": [],
   "source": [
    "df[\"Đường\"], df[\"Phường\"], df[\"Quận\"] = zip(*df[\"Địa chỉ\"].apply(get_Duong_Phuong_Quan))"
   ]
  },
  {
   "cell_type": "code",
   "execution_count": 24,
   "metadata": {},
   "outputs": [
    {
     "data": {
      "text/html": [
       "<div>\n",
       "<style scoped>\n",
       "    .dataframe tbody tr th:only-of-type {\n",
       "        vertical-align: middle;\n",
       "    }\n",
       "\n",
       "    .dataframe tbody tr th {\n",
       "        vertical-align: top;\n",
       "    }\n",
       "\n",
       "    .dataframe thead th {\n",
       "        text-align: right;\n",
       "    }\n",
       "</style>\n",
       "<table border=\"1\" class=\"dataframe\">\n",
       "  <thead>\n",
       "    <tr style=\"text-align: right;\">\n",
       "      <th></th>\n",
       "      <th>Link</th>\n",
       "      <th>Cập nhật ngày</th>\n",
       "      <th>Tên tòa nhà</th>\n",
       "      <th>Địa chỉ</th>\n",
       "      <th>Số tầng</th>\n",
       "      <th>Diện tích cho thuê</th>\n",
       "      <th>Giá thuê</th>\n",
       "      <th>Phí quản lý</th>\n",
       "      <th>Phí gửi xe máy</th>\n",
       "      <th>Phí gửi ô tô</th>\n",
       "      <th>Tiền điện</th>\n",
       "      <th>Phí ngoài giờ</th>\n",
       "      <th>Thời gian thiết kế văn phòng</th>\n",
       "      <th>Thời gian thuê</th>\n",
       "      <th>Đặt cọc</th>\n",
       "      <th>Thanh toán</th>\n",
       "      <th>Đường</th>\n",
       "      <th>Phường</th>\n",
       "      <th>Quận</th>\n",
       "    </tr>\n",
       "  </thead>\n",
       "  <tbody>\n",
       "    <tr>\n",
       "      <th>1597</th>\n",
       "      <td>https://vlook.vn/van-phong-cho-thue/villa-an-p...</td>\n",
       "      <td>23/12/2020</td>\n",
       "      <td>VILLA AN PHÚ</td>\n",
       "      <td>An Phú, Quận 2</td>\n",
       "      <td>1 Hầm – 1 Trệt – 2 Tầng</td>\n",
       "      <td>80 – 100 – 200 m2</td>\n",
       "      <td>11$ /m2</td>\n",
       "      <td>0$ /m2</td>\n",
       "      <td>Miễn phí</td>\n",
       "      <td>Miễn phí</td>\n",
       "      <td>Đồng hồ riêng. Theo giá nhà nước</td>\n",
       "      <td>Thỏa thuận</td>\n",
       "      <td>Miễn phí từ  7-30  ngày, tùy diện tích</td>\n",
       "      <td>Tối thiểu  1  năm</td>\n",
       "      <td>3  tháng</td>\n",
       "      <td>Theo tháng hoặc theo quý</td>\n",
       "      <td>An Phú</td>\n",
       "      <td>None</td>\n",
       "      <td>Quận 2</td>\n",
       "    </tr>\n",
       "    <tr>\n",
       "      <th>1939</th>\n",
       "      <td>https://vlook.vn/van-phong-cho-thue/sisc-build...</td>\n",
       "      <td>23/12/2020</td>\n",
       "      <td>SISC BUILDING</td>\n",
       "      <td>9A, Bình Hưng, Khu Trung Sơn, Huyện Bình Chánh</td>\n",
       "      <td>1 Hầm – Trệt – 6 Tầng – 3 Thang máy</td>\n",
       "      <td>26 - 36 - 55 - 100 - 140 - 190 - 220 m2</td>\n",
       "      <td>12$ /m2</td>\n",
       "      <td>2$ /m2</td>\n",
       "      <td>6$ /tháng</td>\n",
       "      <td>80$ /tháng</td>\n",
       "      <td>Miễn phí</td>\n",
       "      <td>Thỏa thuận</td>\n",
       "      <td>Miễn phí từ  7-30  ngày, tùy diện tích</td>\n",
       "      <td>Tối thiểu  2  năm</td>\n",
       "      <td>3  tháng</td>\n",
       "      <td>Theo tháng</td>\n",
       "      <td>9A</td>\n",
       "      <td>None</td>\n",
       "      <td>Huyện Bình Chánh</td>\n",
       "    </tr>\n",
       "  </tbody>\n",
       "</table>\n",
       "</div>"
      ],
      "text/plain": [
       "                                                   Link Cập nhật ngày  \\\n",
       "1597  https://vlook.vn/van-phong-cho-thue/villa-an-p...    23/12/2020   \n",
       "1939  https://vlook.vn/van-phong-cho-thue/sisc-build...    23/12/2020   \n",
       "\n",
       "        Tên tòa nhà                                         Địa chỉ  \\\n",
       "1597   VILLA AN PHÚ                                  An Phú, Quận 2   \n",
       "1939  SISC BUILDING  9A, Bình Hưng, Khu Trung Sơn, Huyện Bình Chánh   \n",
       "\n",
       "                                  Số tầng  \\\n",
       "1597              1 Hầm – 1 Trệt – 2 Tầng   \n",
       "1939  1 Hầm – Trệt – 6 Tầng – 3 Thang máy   \n",
       "\n",
       "                           Diện tích cho thuê Giá thuê Phí quản lý  \\\n",
       "1597                        80 – 100 – 200 m2  11$ /m2      0$ /m2   \n",
       "1939  26 - 36 - 55 - 100 - 140 - 190 - 220 m2  12$ /m2      2$ /m2   \n",
       "\n",
       "     Phí gửi xe máy Phí gửi ô tô                         Tiền điện  \\\n",
       "1597       Miễn phí     Miễn phí  Đồng hồ riêng. Theo giá nhà nước   \n",
       "1939      6$ /tháng   80$ /tháng                          Miễn phí   \n",
       "\n",
       "     Phí ngoài giờ            Thời gian thiết kế văn phòng     Thời gian thuê  \\\n",
       "1597    Thỏa thuận  Miễn phí từ  7-30  ngày, tùy diện tích  Tối thiểu  1  năm   \n",
       "1939    Thỏa thuận  Miễn phí từ  7-30  ngày, tùy diện tích  Tối thiểu  2  năm   \n",
       "\n",
       "       Đặt cọc                Thanh toán   Đường Phường              Quận  \n",
       "1597  3  tháng  Theo tháng hoặc theo quý  An Phú   None            Quận 2  \n",
       "1939  3  tháng                Theo tháng      9A   None  Huyện Bình Chánh  "
      ]
     },
     "execution_count": 24,
     "metadata": {},
     "output_type": "execute_result"
    }
   ],
   "source": [
    "df[df[\"Phường\"] == \"None\"]"
   ]
  },
  {
   "cell_type": "code",
   "execution_count": 25,
   "metadata": {},
   "outputs": [],
   "source": [
    "df[\"Tỉnh\"] = \"HCM\""
   ]
  },
  {
   "cell_type": "code",
   "execution_count": 26,
   "metadata": {},
   "outputs": [],
   "source": [
    "columns = [\"Link\",\"Cập nhật ngày\",\"Tên tòa nhà\",\"Địa chỉ\", \"Đường\", \"Phường\", \"Quận\", \"Tỉnh\", \"Số tầng\", \n",
    "         \"Diện tích cho thuê\", \"Giá thuê\", \"Phí quản lý\", \"Phí gửi xe máy\", \"Phí gửi ô tô\", \"Tiền điện\",\n",
    "        \"Phí ngoài giờ\", \"Thời gian thiết kế văn phòng\", \"Thời gian thuê\", \"Đặt cọc\", \"Thanh toán\"]\n",
    "df.to_excel(\"Vlook.xlsx\",columns = columns)"
   ]
  },
  {
   "cell_type": "code",
   "execution_count": null,
   "metadata": {},
   "outputs": [],
   "source": []
  },
  {
   "cell_type": "code",
   "execution_count": 27,
   "metadata": {},
   "outputs": [],
   "source": [
    "import pandas as pd"
   ]
  },
  {
   "cell_type": "code",
   "execution_count": 28,
   "metadata": {},
   "outputs": [],
   "source": [
    "df = pd.read_csv(\"Vlook.csv\")"
   ]
  },
  {
   "cell_type": "code",
   "execution_count": 29,
   "metadata": {},
   "outputs": [
    {
     "data": {
      "text/plain": [
       "(1940, 21)"
      ]
     },
     "execution_count": 29,
     "metadata": {},
     "output_type": "execute_result"
    }
   ],
   "source": [
    "df.shape"
   ]
  },
  {
   "cell_type": "code",
   "execution_count": 30,
   "metadata": {},
   "outputs": [
    {
     "data": {
      "text/plain": [
       "Quận 1              402\n",
       "Quận Tân Bình       301\n",
       "Quận Bình Thạnh     254\n",
       "Quận 3              243\n",
       "Quận Phú Nhuận      139\n",
       "Quận 10             113\n",
       "Quận 2              113\n",
       "Quận 7               97\n",
       "Quận 4               73\n",
       "Quận 5               73\n",
       "Quận Tân Phú         27\n",
       "Quận Gò Vấp          20\n",
       "Huyện Bình Chánh     14\n",
       "Quận 11              13\n",
       "Quận 9               11\n",
       "Quận 8               10\n",
       "Quận Thủ Đức         10\n",
       "Quận 12               6\n",
       "Huyện Nhà Bè          5\n",
       "Quận 6                5\n",
       "Biên Hòa              4\n",
       "Quận Bình Tân         3\n",
       "Quận Ninh Kiều        1\n",
       "Thị Xã Thuận An       1\n",
       "Quận Bình Thủy        1\n",
       "Huyện Hóc Môn         1\n",
       "Name: Quận, dtype: int64"
      ]
     },
     "execution_count": 30,
     "metadata": {},
     "output_type": "execute_result"
    }
   ],
   "source": [
    "df[\"Quận\"].value_counts()"
   ]
  },
  {
   "cell_type": "code",
   "execution_count": null,
   "metadata": {},
   "outputs": [],
   "source": [
    "quận 1 - 1\n",
    "quận 8 - 1\n",
    "Gò Vấp dư 1\n",
    "Quận 7 - 7"
   ]
  },
  {
   "cell_type": "code",
   "execution_count": null,
   "metadata": {},
   "outputs": [],
   "source": [
    "https://vlook.vn/van-phong-cho-thue/maritime-bank-tower-cho-thue-van-phong-quan-1/\n",
    "https://vlook.vn/van-phong-cho-thue/power-hrich-duong-so-53-quan-go-vap/\n",
    "https://vlook.vn/van-phong-cho-thue/gonsa-building-vo-liem-son-quan-8/"
   ]
  },
  {
   "cell_type": "code",
   "execution_count": 7,
   "metadata": {},
   "outputs": [],
   "source": [
    "for district in df[\"Quận\"].value_counts().keys():\n",
    "    df[df[\"Quận\"] == district].to_csv(district+\".csv\")"
   ]
  },
  {
   "cell_type": "code",
   "execution_count": 8,
   "metadata": {},
   "outputs": [
    {
     "data": {
      "text/html": [
       "<div>\n",
       "<style scoped>\n",
       "    .dataframe tbody tr th:only-of-type {\n",
       "        vertical-align: middle;\n",
       "    }\n",
       "\n",
       "    .dataframe tbody tr th {\n",
       "        vertical-align: top;\n",
       "    }\n",
       "\n",
       "    .dataframe thead th {\n",
       "        text-align: right;\n",
       "    }\n",
       "</style>\n",
       "<table border=\"1\" class=\"dataframe\">\n",
       "  <thead>\n",
       "    <tr style=\"text-align: right;\">\n",
       "      <th></th>\n",
       "      <th>Unnamed: 0</th>\n",
       "      <th>Link</th>\n",
       "      <th>Cập nhật ngày</th>\n",
       "      <th>Tên tòa nhà</th>\n",
       "      <th>Địa chỉ</th>\n",
       "      <th>Đường</th>\n",
       "      <th>Phường</th>\n",
       "      <th>Quận</th>\n",
       "      <th>Tỉnh</th>\n",
       "      <th>Số tầng</th>\n",
       "      <th>...</th>\n",
       "      <th>Giá thuê</th>\n",
       "      <th>Phí quản lý</th>\n",
       "      <th>Phí gửi xe máy</th>\n",
       "      <th>Phí gửi ô tô</th>\n",
       "      <th>Tiền điện</th>\n",
       "      <th>Phí ngoài giờ</th>\n",
       "      <th>Thời gian thiết kế văn phòng</th>\n",
       "      <th>Thời gian thuê</th>\n",
       "      <th>Đặt cọc</th>\n",
       "      <th>Thanh toán</th>\n",
       "    </tr>\n",
       "  </thead>\n",
       "  <tbody>\n",
       "  </tbody>\n",
       "</table>\n",
       "<p>0 rows × 21 columns</p>\n",
       "</div>"
      ],
      "text/plain": [
       "Empty DataFrame\n",
       "Columns: [Unnamed: 0, Link, Cập nhật ngày, Tên tòa nhà, Địa chỉ, Đường, Phường, Quận, Tỉnh, Số tầng, Diện tích cho thuê, Giá thuê, Phí quản lý, Phí gửi xe máy, Phí gửi ô tô, Tiền điện, Phí ngoài giờ, Thời gian thiết kế văn phòng, Thời gian thuê, Đặt cọc, Thanh toán]\n",
       "Index: []\n",
       "\n",
       "[0 rows x 21 columns]"
      ]
     },
     "execution_count": 8,
     "metadata": {},
     "output_type": "execute_result"
    }
   ],
   "source": [
    "df[df.duplicated() == True]"
   ]
  },
  {
   "cell_type": "code",
   "execution_count": 15,
   "metadata": {},
   "outputs": [],
   "source": [
    "full = []\n",
    "crawled = []\n",
    "with open(\"linksQuan7.txt\", \"r\") as f:\n",
    "    for line in f:\n",
    "        line = line.strip()\n",
    "        full.append(line.split(\"|\")[1])\n",
    "with open(\"Quận 7.csv\", \"r\") as f:\n",
    "    for line in f:\n",
    "        line = line.strip()\n",
    "        crawled.append(line.split(\",\")[2])"
   ]
  },
  {
   "cell_type": "code",
   "execution_count": 17,
   "metadata": {},
   "outputs": [
    {
     "data": {
      "text/plain": [
       "{'https://vlook.vn/van-phong-cho-thue/cao-oc-hung-phat-le-van-luong-huyen-nha-be/',\n",
       " 'https://vlook.vn/van-phong-cho-thue/cmr-building-le-van-luong-huyen-nha-be/',\n",
       " 'https://vlook.vn/van-phong-cho-thue/hkl-building-nguyen-huu-tho-huyen-nha-be/',\n",
       " 'https://vlook.vn/van-phong-cho-thue/phu-hoang-anh-building-cho-thue-van-phong-quan-7/',\n",
       " 'https://vlook.vn/van-phong-cho-thue/pv-gas-tower-nguyen-huu-tho-huyen-nha-be/',\n",
       " 'https://vlook.vn/van-phong-cho-thue/vinamilk-tower-cho-thue-van-phong-quan-7/'}"
      ]
     },
     "execution_count": 17,
     "metadata": {},
     "output_type": "execute_result"
    }
   ],
   "source": [
    "set(full) - set(crawled)"
   ]
  },
  {
   "cell_type": "code",
   "execution_count": null,
   "metadata": {},
   "outputs": [],
   "source": []
  }
 ],
 "metadata": {
  "kernelspec": {
   "display_name": "Python 3",
   "language": "python",
   "name": "python3"
  },
  "language_info": {
   "codemirror_mode": {
    "name": "ipython",
    "version": 3
   },
   "file_extension": ".py",
   "mimetype": "text/x-python",
   "name": "python",
   "nbconvert_exporter": "python",
   "pygments_lexer": "ipython3",
   "version": "3.8.5"
  }
 },
 "nbformat": 4,
 "nbformat_minor": 4
}
